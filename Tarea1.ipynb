{
  "cells": [
    {
      "cell_type": "markdown",
      "metadata": {
        "id": "view-in-github",
        "colab_type": "text"
      },
      "source": [
        "<a href=\"https://colab.research.google.com/github/MateoFandi/DiplomadoDataScience/blob/Tareas/Tarea1.ipynb\" target=\"_parent\"><img src=\"https://colab.research.google.com/assets/colab-badge.svg\" alt=\"Open In Colab\"/></a>"
      ]
    },
    {
      "cell_type": "markdown",
      "id": "74c11763-9ef3-47fe-a55a-e0cdee6d67a8",
      "metadata": {
        "tags": [],
        "id": "74c11763-9ef3-47fe-a55a-e0cdee6d67a8"
      },
      "source": [
        "# <span style = \"color:#F72585\"><center> Error estandar </center></span>"
      ]
    },
    {
      "cell_type": "markdown",
      "id": "ce903d6f-5fb1-4d09-843f-13a1543c6c48",
      "metadata": {
        "tags": [],
        "id": "ce903d6f-5fb1-4d09-843f-13a1543c6c48"
      },
      "source": [
        "## <figure>\n",
        "<center>\n",
        "<img\n",
        "     src = \"https://www.wikihow.com/images/thumb/6/68/Calculate-Standard-Error-Step-6.jpg/v4-728px-Calculate-Standard-Error-Step-6.jpg\"/ width = \"600\" height = \"400\" align=\"center\">\n",
        "    </center>\n",
        "    </figure>    \n",
        "    \n",
        "<center> Fuente: <a\n",
        "href = \"https://es.wikihow.com/calcular-el-error-est%C3%A1ndar\"> Error Estandar\n",
        "    </a>    \n",
        "    </center>"
      ]
    },
    {
      "cell_type": "markdown",
      "id": "27ca0826-d095-442a-8e88-66ee7c153587",
      "metadata": {
        "id": "27ca0826-d095-442a-8e88-66ee7c153587"
      },
      "source": [
        "<span style = \"color:red\"><center> Mateo Felipe Fandiño Suarez </center></span>"
      ]
    },
    {
      "cell_type": "markdown",
      "id": "6a7c918e-12d5-463c-91a8-8130dc0ddc6c",
      "metadata": {
        "id": "6a7c918e-12d5-463c-91a8-8130dc0ddc6c"
      },
      "source": [
        "<h2> <span style = \"color:red\"> Mateo Fandiño</span> </h2>"
      ]
    },
    {
      "cell_type": "markdown",
      "id": "5c50fcfb-a8fc-4df0-b74c-ff70b16e21e5",
      "metadata": {
        "id": "5c50fcfb-a8fc-4df0-b74c-ff70b16e21e5"
      },
      "source": [
        "Estudiante de agronomía de octavo semestre, con enfoque en el área de análisis de datos principalmente para experimentos y situaciones de la vida cotidiana en el área agronómica. Gusto por los videojuegos y el motociclismo. 23 años. Manejo intermedio de *Rstudio* y en proceso de aprendizaje de **Python**."
      ]
    },
    {
      "cell_type": "markdown",
      "id": "8e3c4b77-e404-40fb-b1a4-9943fc471c00",
      "metadata": {
        "id": "8e3c4b77-e404-40fb-b1a4-9943fc471c00"
      },
      "source": [
        "![2.jpeg](attachment:b7fad681-6254-4b10-811a-579ecd64ff8a.jpeg)\""
      ]
    },
    {
      "cell_type": "markdown",
      "id": "fc647b5b-e720-4399-bfc7-f337b8d01225",
      "metadata": {
        "id": "fc647b5b-e720-4399-bfc7-f337b8d01225"
      },
      "source": [
        "## <span style = \"color:green\"> ¿Que es el Error Estandar? </span>"
      ]
    },
    {
      "cell_type": "markdown",
      "id": "9d290f7d-bdaf-458b-b8cb-51257f43a3dc",
      "metadata": {
        "id": "9d290f7d-bdaf-458b-b8cb-51257f43a3dc"
      },
      "source": [
        "La media muestral es el estimador usual de una media poblacional. Sin embargo, diferentes muestras escogidas de la misma población tienden en general a dar distintos valores de medias muestrales. El error estándar de la media (es decir, el error debido a la estimación de la media poblacional a partir de las medias muestrales) **es la desviación estándar de todas las posibles muestras** (de un tamaño dado) escogidos de esa población. Además, el error estándar de la media puede referirse a una estimación de la desviación estándar, calculada desde una muestra de datos que está siendo analizada al mismo tiempo"
      ]
    },
    {
      "cell_type": "markdown",
      "id": "991a8119-7afa-40f1-864d-9357ba2d20e7",
      "metadata": {
        "id": "991a8119-7afa-40f1-864d-9357ba2d20e7"
      },
      "source": [
        "<figure>\n",
        "<center>\n",
        "<img\n",
        "src = \"https://10empresa.com/wp-content/uploads/2019/12/intervalo-de-confianza.png\" width = \"600\" height = \"400\" align = \"center\" />\n",
        "    </center>\n",
        "    </figure>\n",
        "<center> Fuente: <a\n",
        "                    href = \"https://10empresa.com/economia/intervalo-confianza/\"> 10empresa </a>\n",
        "                    </center>"
      ]
    },
    {
      "cell_type": "markdown",
      "id": "3897f959-782e-4eac-af26-e44dabf82106",
      "metadata": {
        "id": "3897f959-782e-4eac-af26-e44dabf82106"
      },
      "source": [
        "## <span style = \"color:green\"> Error estandar en la regresión </span>"
      ]
    },
    {
      "cell_type": "markdown",
      "id": "4bf0a422-510a-4476-bd0f-9fbe484a0e11",
      "metadata": {
        "id": "4bf0a422-510a-4476-bd0f-9fbe484a0e11"
      },
      "source": [
        "El error estándar de la regresión es el valor que muestra la diferencia entre los valores reales y los estimados de una regresión. Es utilizado para valorar si existe una correlación entre la regresión y los valores medidos. Muchos autores prefieren este dato a otros como el coeficiente de correlación lineal, ya que el error estándar se mide en las mismas unidades que los valores que se estudian.\n",
        "La **fórmula** sería:\n",
        "\n",
        "<a href = \"https://es.wikipedia.org/wiki/Error_est%C3%A1ndar\"> Error estandar en la regresión</a>"
      ]
    },
    {
      "cell_type": "markdown",
      "id": "4c42f0c6-741f-46e3-b613-c1264f91a0bd",
      "metadata": {
        "id": "4c42f0c6-741f-46e3-b613-c1264f91a0bd"
      },
      "source": [
        "$\\hat{\\sigma} = \\sqrt{\\frac{1}{N-1} \\sum^{N}_{i = 1}(y_i-\\hat{y_i})^2}$"
      ]
    },
    {
      "cell_type": "markdown",
      "id": "51421a3c-dbed-4c80-9ec2-be02fd22c287",
      "metadata": {
        "id": "51421a3c-dbed-4c80-9ec2-be02fd22c287"
      },
      "source": [
        "## <span style = \"color:green\"> Ejemplo </span>"
      ]
    },
    {
      "cell_type": "markdown",
      "id": "264f06d6-8841-4160-8dca-6303e913dcac",
      "metadata": {
        "id": "264f06d6-8841-4160-8dca-6303e913dcac"
      },
      "source": [
        "<figure>\n",
        "    <center>\n",
        "        <img\n",
        "             src = \"https://www.yubrain.com/wp-content/uploads/2021/08/desviacion-estandar-cero.jpg\" width = \"600\", height = \"400\" align = \"center\"\n",
        "             />\n",
        "    </center>\n",
        "</figure>\n",
        "<center> Fuente: <a href = \"https://www.yubrain.com/matematicas/estadistica/cuando-la-desviacion-estandar-es-igual-a-cero/\"> Desviación estándar $ Desviacion estandar \\neq Error estandar $\n"
      ]
    }
  ],
  "metadata": {
    "kernelspec": {
      "display_name": "Python 3 (ipykernel)",
      "language": "python",
      "name": "python3"
    },
    "language_info": {
      "codemirror_mode": {
        "name": "ipython",
        "version": 3
      },
      "file_extension": ".py",
      "mimetype": "text/x-python",
      "name": "python",
      "nbconvert_exporter": "python",
      "pygments_lexer": "ipython3",
      "version": "3.9.12"
    },
    "colab": {
      "provenance": [],
      "include_colab_link": true
    }
  },
  "nbformat": 4,
  "nbformat_minor": 5
}